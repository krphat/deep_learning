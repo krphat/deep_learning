{
  "cells": [
    {
      "cell_type": "code",
      "execution_count": 2613,
      "metadata": {
        "id": "BachySjrP9ze"
      },
      "outputs": [],
      "source": [
        "import numpy as np\n",
        "import cv2\n",
        "from matplotlib import pyplot as plt"
      ]
    },
    {
      "cell_type": "markdown",
      "metadata": {
        "id": "yaDB6T79P9zf"
      },
      "source": [
        "### Read Image"
      ]
    },
    {
      "cell_type": "code",
      "execution_count": 2614,
      "metadata": {
        "id": "EY-IuFf6P9zg"
      },
      "outputs": [],
      "source": [
        "# function show image\n",
        "def showImg(title: str, image: np.ndarray) -> None:\n",
        "    cv2.imshow(title, image)\n",
        "    cv2.waitKey(0)\n",
        "    cv2.destroyAllWindows()"
      ]
    },
    {
      "cell_type": "code",
      "execution_count": 2615,
      "metadata": {
        "id": "eIh8x1zEP9zg"
      },
      "outputs": [],
      "source": [
        "img = cv2.imread('img\\\\digits.png', cv2.IMREAD_GRAYSCALE)"
      ]
    },
    {
      "cell_type": "code",
      "execution_count": 2616,
      "metadata": {
        "id": "qMKCH0WCP9zg"
      },
      "outputs": [],
      "source": [
        "# showImg(\"src\", img)"
      ]
    },
    {
      "cell_type": "markdown",
      "metadata": {
        "id": "jOLAXrNwP9zg"
      },
      "source": [
        "### Crop Image & Labeling"
      ]
    },
    {
      "cell_type": "code",
      "execution_count": 2617,
      "metadata": {
        "id": "Jdd2aTROP9zg"
      },
      "outputs": [],
      "source": [
        "# function extraxt image of each digit\n",
        "\n",
        "def extractImgNumber(image: np.ndarray):\n",
        "    subImg = []\n",
        "    labels = []\n",
        "    curNum = -1\n",
        "    height, width = image.shape\n",
        "    for h in range(0, height, 20):\n",
        "        if h%100 == 0:\n",
        "            curNum += 1\n",
        "        for w in range(0, width, 20):\n",
        "            subImg.append(image[h:h+20,w:w+20])\n",
        "            labels.append(curNum)\n",
        "\n",
        "    return (np.array(subImg), np.array(labels))"
      ]
    },
    {
      "cell_type": "code",
      "execution_count": 2618,
      "metadata": {
        "id": "sDZupEHdP9zg"
      },
      "outputs": [],
      "source": [
        "X, y = extractImgNumber(img)"
      ]
    },
    {
      "cell_type": "code",
      "execution_count": 2619,
      "metadata": {
        "colab": {
          "base_uri": "https://localhost:8080/"
        },
        "id": "n0dkuCypP9zh",
        "outputId": "7bedaf2f-c840-4980-8123-3e1a21193d32"
      },
      "outputs": [
        {
          "data": {
            "text/plain": [
              "{0: 500,\n",
              " 1: 500,\n",
              " 2: 500,\n",
              " 3: 500,\n",
              " 4: 500,\n",
              " 5: 500,\n",
              " 6: 500,\n",
              " 7: 500,\n",
              " 8: 500,\n",
              " 9: 500}"
            ]
          },
          "execution_count": 2619,
          "metadata": {},
          "output_type": "execute_result"
        }
      ],
      "source": [
        "unique, counts = np.unique(y, return_counts=True)\n",
        "dict(zip(unique, counts))"
      ]
    },
    {
      "cell_type": "code",
      "execution_count": 2620,
      "metadata": {
        "colab": {
          "base_uri": "https://localhost:8080/"
        },
        "id": "N3Omv_blP9zh",
        "outputId": "af951687-15a7-47e2-d203-7f5ff96107ee"
      },
      "outputs": [
        {
          "data": {
            "text/plain": [
              "5000"
            ]
          },
          "execution_count": 2620,
          "metadata": {},
          "output_type": "execute_result"
        }
      ],
      "source": [
        "X.shape[0]"
      ]
    },
    {
      "cell_type": "code",
      "execution_count": 2621,
      "metadata": {},
      "outputs": [],
      "source": [
        "class_names = ['No.0','No.1','No.2','No.3','No.4','No.5','No.6','No.7','No.8','No.9']"
      ]
    },
    {
      "cell_type": "code",
      "execution_count": 2622,
      "metadata": {
        "id": "N8kNSFg_P9zh"
      },
      "outputs": [],
      "source": [
        "# function plot data\n",
        "import random\n",
        "from typing import Optional\n",
        "\n",
        "def plotData(x_data: np.ndarray, y_data: np.ndarray, y_proba: Optional[np.ndarray]=None) -> None:\n",
        "    nrows = 3\n",
        "    ncols = 5\n",
        "    lenX = x_data.shape[0]\n",
        "    fig, axes = plt.subplots(nrows=nrows, ncols=ncols, figsize = (10,6))\n",
        "\n",
        "    for idx in range(nrows*ncols):\n",
        "        ax = axes[idx//ncols, idx%ncols]\n",
        "        imgIdx = random.randint(0, lenX)\n",
        "        ax.imshow(x_data[imgIdx], cmap = \"gray\")\n",
        "        ax.set(xticks=[], yticks=[])                # remove xticks and yticks\n",
        "        trueLabel = f\"True: {class_names[y_data[imgIdx]]}\"\n",
        "        color = \"green\"\n",
        "        if y_proba is not None:\n",
        "          pred_idx = np.argmax(y_proba[imgIdx])\n",
        "          pred_label = class_names[pred_idx]\n",
        "          color = \"red\" if pred_idx != y_data[imgIdx] else color\n",
        "          pred_label_str = f\"Predict: {pred_label}\"\n",
        "\n",
        "        imgTitle = trueLabel if y_proba is None else trueLabel + \"\\n\" + pred_label_str\n",
        "\n",
        "        ax.set_xlabel(imgTitle, color=color, fontsize=15)\n",
        "\n",
        "    plt.tight_layout()\n",
        "    plt.show()"
      ]
    },
    {
      "cell_type": "code",
      "execution_count": 2623,
      "metadata": {
        "colab": {
          "base_uri": "https://localhost:8080/",
          "height": 608
        },
        "id": "fWlFLmoeP9zh",
        "outputId": "dbbaaab9-6734-4096-c2f8-a888f17a2b22"
      },
      "outputs": [
        {
          "data": {
            "image/png": "[encoded data removed]",
            "text/plain": [
              "<Figure size 1000x600 with 15 Axes>"
            ]
          },
          "metadata": {},
          "output_type": "display_data"
        }
      ],
      "source": [
        "plotData(X, y)"
      ]
    },
    {
      "cell_type": "markdown",
      "metadata": {
        "id": "nmbjsNCMP9zi"
      },
      "source": [
        "### Train & Test Split"
      ]
    },
    {
      "cell_type": "code",
      "execution_count": 2624,
      "metadata": {
        "id": "h9yupppyP9zi"
      },
      "outputs": [],
      "source": [
        "from sklearn.model_selection import train_test_split\n",
        "\n",
        "X_train, X_test, y_train, y_test = train_test_split(X, y, test_size=0.2, random_state=2404)"
      ]
    },
    {
      "cell_type": "markdown",
      "metadata": {
        "id": "_SWgiEuAP9zi"
      },
      "source": [
        "### Image Pre-processing"
      ]
    },
    {
      "cell_type": "markdown",
      "metadata": {
        "id": "u9Ch_KLpP9zi"
      },
      "source": [
        "- Reshaping it into the shape the model expects and scaling it so that all values are in the `[0, 1]` interval\n",
        "- Transform from `unit8` it into a `float32`"
      ]
    },
    {
      "cell_type": "code",
      "execution_count": 2625,
      "metadata": {
        "id": "BwY41A-aP9zi"
      },
      "outputs": [],
      "source": [
        "X_train = X_train.astype(np.float32) / 255\n",
        "X_test = X_test.astype(np.float32) / 255"
      ]
    },
    {
      "cell_type": "code",
      "execution_count": 2626,
      "metadata": {
        "colab": {
          "base_uri": "https://localhost:8080/"
        },
        "id": "VgJ3KzlNP9zi",
        "outputId": "6d55b2c4-75d8-490e-a103-9011e52f5258"
      },
      "outputs": [
        {
          "data": {
            "text/plain": [
              "((4000, 20, 20), (1000, 20, 20))"
            ]
          },
          "execution_count": 2626,
          "metadata": {},
          "output_type": "execute_result"
        }
      ],
      "source": [
        "X_train.shape, X_test.shape"
      ]
    },
    {
      "cell_type": "markdown",
      "metadata": {
        "id": "RawbJG3NP9zi"
      },
      "source": [
        " - Rank-4 tensors of shape: `(samples, height, width, channels)`"
      ]
    },
    {
      "cell_type": "code",
      "execution_count": 2627,
      "metadata": {
        "id": "_T92KoKTP9zi"
      },
      "outputs": [],
      "source": [
        "X_train = np.expand_dims(X_train, axis=-1)\n",
        "X_test = np.expand_dims(X_test, axis=-1)"
      ]
    },
    {
      "cell_type": "code",
      "execution_count": 2628,
      "metadata": {
        "colab": {
          "base_uri": "https://localhost:8080/"
        },
        "id": "mGKO905JP9zi",
        "outputId": "2b0aeadd-76c1-4900-8c83-dd03ad20283e"
      },
      "outputs": [
        {
          "data": {
            "text/plain": [
              "((4000, 20, 20, 1), (1000, 20, 20, 1))"
            ]
          },
          "execution_count": 2628,
          "metadata": {},
          "output_type": "execute_result"
        }
      ],
      "source": [
        "X_train.shape, X_test.shape"
      ]
    },
    {
      "cell_type": "code",
      "execution_count": 2629,
      "metadata": {
        "id": "stGjWehSP9zi"
      },
      "outputs": [],
      "source": [
        "import tensorflow as tf\n",
        "import keras\n",
        "from keras import layers"
      ]
    },
    {
      "cell_type": "code",
      "execution_count": 2630,
      "metadata": {
        "id": "zywX66mrP9zi"
      },
      "outputs": [],
      "source": [
        "# convert class vectors to binary class matrices: 1 => [0 1 0 0 ...]\n",
        "# 1              => sparse_categorical_crossentropy\n",
        "# [0 1 0 0 ...]  => categorical_crossentropy\n",
        "nClasses = 10 # [0 1 2 3 4 5 6 7 8 9]\n",
        "\n",
        "y_train_label = keras.utils.to_categorical(y_train, nClasses).astype(np.float32)\n",
        "y_test_label = keras.utils.to_categorical(y_test, nClasses).astype(np.float32)"
      ]
    },
    {
      "cell_type": "code",
      "execution_count": 2631,
      "metadata": {
        "colab": {
          "base_uri": "https://localhost:8080/"
        },
        "id": "YG_JlKIOP9zj",
        "outputId": "61c52a85-c897-4af8-81a3-e7b14aa1cca7"
      },
      "outputs": [
        {
          "data": {
            "text/plain": [
              "(4000, 10)"
            ]
          },
          "execution_count": 2631,
          "metadata": {},
          "output_type": "execute_result"
        }
      ],
      "source": [
        "y_train_label.shape"
      ]
    },
    {
      "cell_type": "markdown",
      "metadata": {
        "id": "7_BJqPMCP9zj"
      },
      "source": [
        "### ANNs"
      ]
    },
    {
      "cell_type": "code",
      "execution_count": 2632,
      "metadata": {
        "id": "aMKVMk3WP9zj"
      },
      "outputs": [],
      "source": [
        "keras.backend.clear_session()\n",
        "model = keras.Sequential([\n",
        "    keras.layers.Input(shape=[20, 20]),\n",
        "    keras.layers.Flatten(),\n",
        "    keras.layers.Dense(256, activation=\"relu\"),\n",
        "    keras.layers.Dense(64, activation=\"relu\"),\n",
        "    keras.layers.Dense(10, activation=\"softmax\")\n",
        "])"
      ]
    },
    {
      "cell_type": "code",
      "execution_count": 2633,
      "metadata": {
        "colab": {
          "base_uri": "https://localhost:8080/"
        },
        "id": "-KUWzAbkP9zj",
        "outputId": "53bb0287-bb6f-48de-eab1-2dd290a263f6"
      },
      "outputs": [
        {
          "name": "stdout",
          "output_type": "stream",
          "text": [
            "Model: \"sequential\"\n",
            "_________________________________________________________________\n",
            " Layer (type)                Output Shape              Param #   \n",
            "=================================================================\n",
            " flatten (Flatten)           (None, 400)               0         \n",
            "                                                                 \n",
            " dense (Dense)               (None, 256)               102656    \n",
            "                                                                 \n",
            " dense_1 (Dense)             (None, 64)                16448     \n",
            "                                                                 \n",
            " dense_2 (Dense)             (None, 10)                650       \n",
            "                                                                 \n",
            "=================================================================\n",
            "Total params: 119754 (467.79 KB)\n",
            "Trainable params: 119754 (467.79 KB)\n",
            "Non-trainable params: 0 (0.00 Byte)\n",
            "_________________________________________________________________\n"
          ]
        }
      ],
      "source": [
        "model.summary()"
      ]
    },
    {
      "cell_type": "markdown",
      "metadata": {
        "id": "Q2iHLS34P9zj"
      },
      "source": [
        "### Model Compilation"
      ]
    },
    {
      "cell_type": "code",
      "execution_count": 2634,
      "metadata": {
        "id": "hfs2JCNhP9zj"
      },
      "outputs": [],
      "source": [
        "\n",
        "model.compile(\n",
        "    loss=\"categorical_crossentropy\",\n",
        "    optimizer=\"rmsprop\",\n",
        "    metrics=[\"accuracy\"]\n",
        ")"
      ]
    },
    {
      "cell_type": "code",
      "execution_count": 2635,
      "metadata": {
        "colab": {
          "base_uri": "https://localhost:8080/"
        },
        "id": "p9T-NOO2P9zj",
        "outputId": "7e67a8b3-b69b-45e3-ce7b-8fa4323e4d11"
      },
      "outputs": [
        {
          "name": "stdout",
          "output_type": "stream",
          "text": [
            "Epoch 1/10\n",
            "57/57 [==============================] - 1s 8ms/step - loss: 0.8758 - accuracy: 0.7733 - val_loss: 0.5714 - val_accuracy: 0.8150\n",
            "Epoch 2/10\n",
            "57/57 [==============================] - 0s 7ms/step - loss: 0.3661 - accuracy: 0.9022 - val_loss: 0.5343 - val_accuracy: 0.8325\n",
            "Epoch 3/10\n",
            "57/57 [==============================] - 0s 5ms/step - loss: 0.2669 - accuracy: 0.9275 - val_loss: 0.4757 - val_accuracy: 0.8725\n",
            "Epoch 4/10\n",
            "57/57 [==============================] - 0s 3ms/step - loss: 0.2147 - accuracy: 0.9400 - val_loss: 0.3361 - val_accuracy: 0.9150\n",
            "Epoch 5/10\n",
            "57/57 [==============================] - 0s 3ms/step - loss: 0.1721 - accuracy: 0.9519 - val_loss: 0.3407 - val_accuracy: 0.9125\n",
            "Epoch 6/10\n",
            "57/57 [==============================] - 0s 3ms/step - loss: 0.1444 - accuracy: 0.9603 - val_loss: 0.2804 - val_accuracy: 0.9275\n",
            "Epoch 7/10\n",
            "57/57 [==============================] - 0s 3ms/step - loss: 0.1201 - accuracy: 0.9706 - val_loss: 0.2971 - val_accuracy: 0.9275\n",
            "Epoch 8/10\n",
            "57/57 [==============================] - 0s 3ms/step - loss: 0.0956 - accuracy: 0.9761 - val_loss: 0.2878 - val_accuracy: 0.9350\n",
            "Epoch 9/10\n",
            "57/57 [==============================] - 0s 3ms/step - loss: 0.0788 - accuracy: 0.9800 - val_loss: 0.2827 - val_accuracy: 0.9350\n",
            "Epoch 10/10\n",
            "57/57 [==============================] - 0s 3ms/step - loss: 0.0639 - accuracy: 0.9842 - val_loss: 0.2752 - val_accuracy: 0.9300\n"
          ]
        }
      ],
      "source": [
        "# Training model\n",
        "\n",
        "epochs = 10\n",
        "batch_size = 64\n",
        "\n",
        "history = model.fit(\n",
        "    X_train,\n",
        "    y_train_label,\n",
        "    epochs = epochs,\n",
        "    batch_size = batch_size,\n",
        "    validation_split = 0.1\n",
        ")"
      ]
    },
    {
      "cell_type": "markdown",
      "metadata": {
        "id": "gSJpYu6rA5tF"
      },
      "source": [
        "### Model Evaluation"
      ]
    },
    {
      "cell_type": "code",
      "execution_count": 2636,
      "metadata": {
        "id": "P6ktRcbAA65l"
      },
      "outputs": [],
      "source": [
        "score = model.evaluate(X_test, y_test_label, verbose=0)"
      ]
    },
    {
      "cell_type": "code",
      "execution_count": 2637,
      "metadata": {
        "colab": {
          "base_uri": "https://localhost:8080/"
        },
        "id": "jit-lJ2xBqsa",
        "outputId": "366531e5-fc50-4626-f354-3fb0366f086d"
      },
      "outputs": [
        {
          "name": "stdout",
          "output_type": "stream",
          "text": [
            "Test Loss: 0.22\n",
            "Test Accuracy: 0.94\n"
          ]
        }
      ],
      "source": [
        "print(f\"Test Loss: {score[0]:.2f}\")\n",
        "print(f\"Test Accuracy: {score[1]:.2f}\")"
      ]
    },
    {
      "cell_type": "code",
      "execution_count": 2638,
      "metadata": {
        "colab": {
          "base_uri": "https://localhost:8080/"
        },
        "id": "xWsnqMMiJzyf",
        "outputId": "c21e05ad-953e-4934-fe91-ff06597d025e"
      },
      "outputs": [
        {
          "data": {
            "text/plain": [
              "dict_keys(['loss', 'accuracy', 'val_loss', 'val_accuracy'])"
            ]
          },
          "execution_count": 2638,
          "metadata": {},
          "output_type": "execute_result"
        }
      ],
      "source": [
        "history_dict = history.history\n",
        "history_dict.keys()"
      ]
    },
    {
      "cell_type": "code",
      "execution_count": 2639,
      "metadata": {
        "id": "jSRSPlwhKeRZ"
      },
      "outputs": [],
      "source": [
        "train_loss, val_loss = history_dict['loss'], history_dict['val_loss']\n",
        "train_accuracy, val_accuracy = history_dict['accuracy'], history_dict['val_accuracy']"
      ]
    },
    {
      "cell_type": "code",
      "execution_count": 2640,
      "metadata": {
        "colab": {
          "base_uri": "https://localhost:8080/",
          "height": 495
        },
        "id": "HflTXYTEJgsA",
        "outputId": "c3772fe3-4d6a-445b-840b-d7b759c18673"
      },
      "outputs": [
        {
          "data": {
            "image/png": "[encoded data removed]",
            "text/plain": [
              "<Figure size 1500x500 with 2 Axes>"
            ]
          },
          "metadata": {},
          "output_type": "display_data"
        }
      ],
      "source": [
        "fig, (ax1, ax2) = plt.subplots(1, 2, figsize=(15,5))\n",
        "lstEpoch = [i+1 for i in range(epochs)]\n",
        "\n",
        "ax1.set_title(\"Traing Loss\", fontsize=15)\n",
        "ax1.plot(lstEpoch, train_loss)\n",
        "ax1.plot(lstEpoch, val_loss)\n",
        "ax1.set_xlabel(\"Epochs\", fontsize=15)\n",
        "ax1.set_ylabel(\"Loss\",fontsize=15)\n",
        "ax1.legend(title=\"\", labels=[\"train_loss\",\"val_loss\"])\n",
        "\n",
        "ax2.set_title(\"Traing Accuracy\", fontsize=15)\n",
        "ax2.plot(lstEpoch, train_accuracy)\n",
        "ax2.plot(lstEpoch, val_accuracy)\n",
        "ax2.legend(title=\"\", labels=[\"train_accuracy\",\"val_accuracy\"])\n",
        "ax2.set_xlabel(\"Epochs\",fontsize=15)\n",
        "ax2.set_ylabel(\"Accuracy\",fontsize=15)\n",
        "\n",
        "plt.show()"
      ]
    },
    {
      "cell_type": "markdown",
      "metadata": {
        "id": "rtLHVlIvCx4Z"
      },
      "source": [
        "### Prediction"
      ]
    },
    {
      "cell_type": "code",
      "execution_count": 2641,
      "metadata": {
        "colab": {
          "base_uri": "https://localhost:8080/"
        },
        "id": "HnvnijkjDIYA",
        "outputId": "5a4c7695-0fa5-4faf-9fc0-a132a4cf894b"
      },
      "outputs": [
        {
          "name": "stdout",
          "output_type": "stream",
          "text": [
            "1/1 [==============================] - 0s 89ms/step\n"
          ]
        }
      ],
      "source": [
        "X_sample = X_test[:3]\n",
        "y_pred = model.predict(X_sample)"
      ]
    },
    {
      "cell_type": "code",
      "execution_count": 2642,
      "metadata": {
        "colab": {
          "base_uri": "https://localhost:8080/"
        },
        "id": "xM2kNYwdEM-n",
        "outputId": "0a6fddc8-fe76-462a-8deb-2b5491c811ea"
      },
      "outputs": [
        {
          "data": {
            "text/plain": [
              "array([8, 9, 0])"
            ]
          },
          "execution_count": 2642,
          "metadata": {},
          "output_type": "execute_result"
        }
      ],
      "source": [
        "y_test[:3]"
      ]
    },
    {
      "cell_type": "code",
      "execution_count": 2643,
      "metadata": {
        "colab": {
          "base_uri": "https://localhost:8080/"
        },
        "id": "6yyCxWKFDVNV",
        "outputId": "494e6739-e736-40af-9e70-9617bcde47e2"
      },
      "outputs": [
        {
          "data": {
            "text/plain": [
              "array([[0.   , 0.001, 0.001, 0.003, 0.   , 0.   , 0.   , 0.   , 0.995,\n",
              "        0.   ],\n",
              "       [0.   , 0.   , 0.   , 0.001, 0.026, 0.   , 0.   , 0.01 , 0.   ,\n",
              "        0.961],\n",
              "       [1.   , 0.   , 0.   , 0.   , 0.   , 0.   , 0.   , 0.   , 0.   ,\n",
              "        0.   ]], dtype=float32)"
            ]
          },
          "execution_count": 2643,
          "metadata": {},
          "output_type": "execute_result"
        }
      ],
      "source": [
        "y_pred.round(3)"
      ]
    },
    {
      "cell_type": "code",
      "execution_count": 2644,
      "metadata": {
        "colab": {
          "base_uri": "https://localhost:8080/",
          "height": 143
        },
        "id": "g19Xh-VlDzex",
        "outputId": "8e7cc87a-f943-40ce-87a4-bb4ecf975d71"
      },
      "outputs": [
        {
          "data": {
            "text/html": [
              "<div>\n",
              "<style scoped>\n",
              "    .dataframe tbody tr th:only-of-type {\n",
              "        vertical-align: middle;\n",
              "    }\n",
              "\n",
              "    .dataframe tbody tr th {\n",
              "        vertical-align: top;\n",
              "    }\n",
              "\n",
              "    .dataframe thead th {\n",
              "        text-align: right;\n",
              "    }\n",
              "</style>\n",
              "<table border=\"1\" class=\"dataframe\">\n",
              "  <thead>\n",
              "    <tr style=\"text-align: right;\">\n",
              "      <th></th>\n",
              "      <th>No.0</th>\n",
              "      <th>No.1</th>\n",
              "      <th>No.2</th>\n",
              "      <th>No.3</th>\n",
              "      <th>No.4</th>\n",
              "      <th>No.5</th>\n",
              "      <th>No.6</th>\n",
              "      <th>No.7</th>\n",
              "      <th>No.8</th>\n",
              "      <th>No.9</th>\n",
              "      <th>Label</th>\n",
              "    </tr>\n",
              "  </thead>\n",
              "  <tbody>\n",
              "    <tr>\n",
              "      <th>0</th>\n",
              "      <td>0.0</td>\n",
              "      <td>0.001</td>\n",
              "      <td>0.001</td>\n",
              "      <td>0.003</td>\n",
              "      <td>0.000</td>\n",
              "      <td>0.0</td>\n",
              "      <td>0.0</td>\n",
              "      <td>0.00</td>\n",
              "      <td>0.995</td>\n",
              "      <td>0.000</td>\n",
              "      <td>No.8</td>\n",
              "    </tr>\n",
              "    <tr>\n",
              "      <th>1</th>\n",
              "      <td>0.0</td>\n",
              "      <td>0.000</td>\n",
              "      <td>0.000</td>\n",
              "      <td>0.001</td>\n",
              "      <td>0.026</td>\n",
              "      <td>0.0</td>\n",
              "      <td>0.0</td>\n",
              "      <td>0.01</td>\n",
              "      <td>0.000</td>\n",
              "      <td>0.961</td>\n",
              "      <td>No.9</td>\n",
              "    </tr>\n",
              "    <tr>\n",
              "      <th>2</th>\n",
              "      <td>1.0</td>\n",
              "      <td>0.000</td>\n",
              "      <td>0.000</td>\n",
              "      <td>0.000</td>\n",
              "      <td>0.000</td>\n",
              "      <td>0.0</td>\n",
              "      <td>0.0</td>\n",
              "      <td>0.00</td>\n",
              "      <td>0.000</td>\n",
              "      <td>0.000</td>\n",
              "      <td>No.0</td>\n",
              "    </tr>\n",
              "  </tbody>\n",
              "</table>\n",
              "</div>"
            ],
            "text/plain": [
              "   No.0   No.1   No.2   No.3   No.4  No.5  No.6  No.7   No.8   No.9 Label\n",
              "0   0.0  0.001  0.001  0.003  0.000   0.0   0.0  0.00  0.995  0.000  No.8\n",
              "1   0.0  0.000  0.000  0.001  0.026   0.0   0.0  0.01  0.000  0.961  No.9\n",
              "2   1.0  0.000  0.000  0.000  0.000   0.0   0.0  0.00  0.000  0.000  No.0"
            ]
          },
          "execution_count": 2644,
          "metadata": {},
          "output_type": "execute_result"
        }
      ],
      "source": [
        "import pandas as pd\n",
        "pd.DataFrame([[*y_p, class_names[y_l]] for y_p, y_l in zip(y_pred.round(3), y_test[:3])],\n",
        "              columns=[*class_names, 'Label'])"
      ]
    },
    {
      "cell_type": "code",
      "execution_count": 2645,
      "metadata": {
        "colab": {
          "base_uri": "https://localhost:8080/"
        },
        "id": "FLlHcF30EqGn",
        "outputId": "7d814a75-42d4-4987-de2f-0a4246460001"
      },
      "outputs": [
        {
          "name": "stdout",
          "output_type": "stream",
          "text": [
            "32/32 [==============================] - 0s 2ms/step\n"
          ]
        }
      ],
      "source": [
        "y_pred_all = model.predict(X_test)"
      ]
    },
    {
      "cell_type": "code",
      "execution_count": 2650,
      "metadata": {
        "colab": {
          "base_uri": "https://localhost:8080/",
          "height": 608
        },
        "id": "ljGqz22AGM2j",
        "outputId": "4948c094-41d2-4ade-e3b2-bc93f681390c"
      },
      "outputs": [
        {
          "data": {
            "image/png": "[encoded data removed]",
            "text/plain": [
              "<Figure size 1000x600 with 15 Axes>"
            ]
          },
          "metadata": {},
          "output_type": "display_data"
        }
      ],
      "source": [
        "plotData(X_test, y_test, y_pred_all)"
      ]
    },
    {
      "cell_type": "code",
      "execution_count": 2647,
      "metadata": {},
      "outputs": [
        {
          "name": "stdout",
          "output_type": "stream",
          "text": [
            "              precision    recall  f1-score   support\n",
            "\n",
            "        No.0       0.97      0.97      0.97       105\n",
            "        No.1       0.93      0.96      0.94       112\n",
            "        No.2       0.89      0.94      0.91        95\n",
            "        No.3       0.98      0.93      0.96        92\n",
            "        No.4       0.97      0.96      0.96       113\n",
            "        No.5       0.88      0.98      0.93       102\n",
            "        No.6       0.96      0.95      0.96       113\n",
            "        No.7       0.91      0.94      0.92        84\n",
            "        No.8       0.95      0.88      0.91        83\n",
            "        No.9       0.97      0.89      0.93       101\n",
            "\n",
            "    accuracy                           0.94      1000\n",
            "   macro avg       0.94      0.94      0.94      1000\n",
            "weighted avg       0.94      0.94      0.94      1000\n",
            "\n"
          ]
        }
      ],
      "source": [
        "from sklearn.metrics import classification_report\n",
        "\n",
        "print(classification_report(y_test, np.argmax(y_pred_all, axis=1), target_names=class_names))"
      ]
    },
    {
      "cell_type": "markdown",
      "metadata": {
        "id": "Fmrk8GWp-lPQ"
      },
      "source": [
        "### Save Models"
      ]
    },
    {
      "cell_type": "code",
      "execution_count": 2649,
      "metadata": {
        "id": "65h79c-R-n7H"
      },
      "outputs": [],
      "source": [
        "# SavedModel format\n",
        "# model.save(\"/content/drive/MyDrive/Dataset/digitRecognition\", save_format=\"tf\")\n",
        "# HDF5 format\n",
        "# model.save(\"digitRecognition.keras\")"
      ]
    }
  ],
  "metadata": {
    "accelerator": "GPU",
    "colab": {
      "gpuType": "T4",
      "provenance": [],
      "toc_visible": true
    },
    "kernelspec": {
      "display_name": "Python 3",
      "name": "python3"
    },
    "language_info": {
      "codemirror_mode": {
        "name": "ipython",
        "version": 3
      },
      "file_extension": ".py",
      "mimetype": "text/x-python",
      "name": "python",
      "nbconvert_exporter": "python",
      "pygments_lexer": "ipython3",
      "version": "3.11.2"
    }
  },
  "nbformat": 4,
  "nbformat_minor": 0
}
